{
 "cells": [
  {
   "cell_type": "code",
   "execution_count": null,
   "metadata": {
    "collapsed": true
   },
   "outputs": [],
   "source": [
    "! cd ../ && python setup.py develop"
   ]
  },
  {
   "cell_type": "code",
   "execution_count": null,
   "metadata": {},
   "outputs": [],
   "source": [
    "%load_ext autoreload\n",
    "%autoreload 2\n",
    "import pandas as pd\n",
    "import numpy as np\n",
    "from sklearn.metrics import mean_squared_log_error\n",
    "\n",
    "from mercari import k_utils"
   ]
  },
  {
   "cell_type": "code",
   "execution_count": null,
   "metadata": {},
   "outputs": [],
   "source": [
    "def load_submission(path):\n",
    "    return pd.read_csv(path, index_col=0)"
   ]
  },
  {
   "cell_type": "code",
   "execution_count": null,
   "metadata": {
    "collapsed": true
   },
   "outputs": [],
   "source": [
    "df_train = pd.read_table('../input/train.tsv')"
   ]
  },
  {
   "cell_type": "code",
   "execution_count": null,
   "metadata": {
    "collapsed": true
   },
   "outputs": [],
   "source": [
    "_, valid_ids, _ = k_utils.load_valid_ids(df_train)"
   ]
  },
  {
   "cell_type": "code",
   "execution_count": null,
   "metadata": {},
   "outputs": [],
   "source": [
    "def get_rmsle(y_pred):\n",
    "    return np.sqrt(mean_squared_log_error(df_train.loc[valid_ids]['price'], y_pred['price']))"
   ]
  },
  {
   "cell_type": "code",
   "execution_count": null,
   "metadata": {},
   "outputs": [],
   "source": [
    "load_submission('valid_nn_conv1d_0.csv').head()"
   ]
  },
  {
   "cell_type": "code",
   "execution_count": null,
   "metadata": {},
   "outputs": [],
   "source": [
    "get_rmsle(load_submission('valid_nn_conv1d_0.csv'))"
   ]
  },
  {
   "cell_type": "code",
   "execution_count": null,
   "metadata": {},
   "outputs": [],
   "source": [
    "get_rmsle(\n",
    "    0.25 * load_submission('valid_nn_conv1d_0.csv') +\n",
    "    0.75 * (\n",
    "        1/3 * load_submission('valid_tfs_Regression_0.csv') +\n",
    "        1/3 * load_submission('valid_tfs_Regression_2.csv') + \n",
    "        1/3 * load_submission('valid_tfs_RegressionClf_1.csv'))\n",
    ")"
   ]
  },
  {
   "cell_type": "code",
   "execution_count": null,
   "metadata": {},
   "outputs": [],
   "source": [
    "get_rmsle(\n",
    "    np.expm1(\n",
    "    0.25 * np.log1p(load_submission('valid_nn_conv1d_0.csv')) +\n",
    "    0.75 * (\n",
    "        1/3 * np.log1p(load_submission('valid_tfs_Regression_0.csv')) +\n",
    "        1/3 * np.log1p(load_submission('valid_tfs_Regression_2.csv')) + \n",
    "        1/3 * np.log1p(load_submission('valid_tfs_RegressionClf_1.csv')))\n",
    "))"
   ]
  }
 ],
 "metadata": {
  "kernelspec": {
   "display_name": "Python 3",
   "language": "python",
   "name": "python3"
  },
  "language_info": {
   "codemirror_mode": {
    "name": "ipython",
    "version": 3
   },
   "file_extension": ".py",
   "mimetype": "text/x-python",
   "name": "python",
   "nbconvert_exporter": "python",
   "pygments_lexer": "ipython3",
   "version": "3.6.3"
  }
 },
 "nbformat": 4,
 "nbformat_minor": 2
}
