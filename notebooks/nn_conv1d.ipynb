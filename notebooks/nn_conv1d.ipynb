{
 "cells": [
  {
   "cell_type": "code",
   "execution_count": null,
   "metadata": {},
   "outputs": [],
   "source": [
    "! cd ../ && python setup.py develop"
   ]
  },
  {
   "cell_type": "code",
   "execution_count": null,
   "metadata": {},
   "outputs": [],
   "source": [
    "import numpy as np\n",
    "import pandas as pd\n",
    "import logging\n",
    "%load_ext autoreload\n",
    "%autoreload 2\n",
    "\n",
    "from mercari import nn_conv1d"
   ]
  },
  {
   "cell_type": "code",
   "execution_count": null,
   "metadata": {},
   "outputs": [],
   "source": [
    "small = False\n",
    "df_train, df_test = nn_conv1d.load_data(small=small)\n",
    "df_train, df_test, target_scaler, embedding_params = nn_conv1d.preprocess(df_train, df_test)\n",
    "train_ids, valid_ids, submission = nn_conv1d.load_valid_ids(df_train)\n",
    "\n",
    "X = nn_conv1d.get_keras_data(df_train)\n",
    "y = df_train['target']"
   ]
  },
  {
   "cell_type": "code",
   "execution_count": null,
   "metadata": {
    "collapsed": true
   },
   "outputs": [],
   "source": [
    "train_nonzero = (df_train['price'].iloc[train_ids] != 0).values.nonzero()[0]\n",
    "X_train = nn_conv1d.slice_keras_data(X, train_ids)\n",
    "X_train = nn_conv1d.slice_keras_data(X_train, train_nonzero)\n",
    "y_train = y.values[train_ids][train_nonzero]\n",
    "X_valid = nn_conv1d.slice_keras_data(X, valid_ids)\n",
    "y_valid = y[valid_ids]\n",
    "train_kwargs = dict(epochs=3, batch_size=1024)"
   ]
  },
  {
   "cell_type": "code",
   "execution_count": null,
   "metadata": {},
   "outputs": [],
   "source": [
    "model_rmsles, model_predictions = [], []\n",
    "for i in range(1):\n",
    "    model, optimizer = nn_conv1d.get_model(\n",
    "        X_train, embedding_params, lr=0.004)\n",
    "    rmsle = nn_conv1d.train_model(\n",
    "        model, optimizer,\n",
    "        X_train=X_train, y_train=y_train,\n",
    "        X_valid=X_valid, y_valid=y_valid,\n",
    "        target_scaler=target_scaler,\n",
    "        **train_kwargs)\n",
    "    model_rmsles.append(rmsle)\n",
    "    y_pred_valid = model.predict(X_valid, batch_size=nn_conv1d.PRED_BATCH)\n",
    "    model_predictions.append(y_pred_valid)\n",
    "    logging.info(f'rmsle: {rmsle:.5f}')\n",
    "    submission['price'] = nn_conv1d.target_to_price(\n",
    "        np.mean(model_predictions, axis=0), target_scaler)\n",
    "    submission.to_csv(f'valid_nn_conv1d_{i}.csv', index=False)\n",
    "logging.info(\n",
    "    f'Mean model RMSLE: {np.mean(model_rmsles)} '\n",
    "    f'± {1.96 * np.std(model_rmsles)}')\n",
    "mean_rmsle = nn_conv1d.get_rmsle(\n",
    "    df_train['price'][valid_ids],\n",
    "    nn_conv1d.target_to_price(np.mean(model_predictions, axis=0),\n",
    "                              target_scaler))\n",
    "logging.info(f'RMSLE of prediction mean: {mean_rmsle}')"
   ]
  }
 ],
 "metadata": {
  "kernelspec": {
   "display_name": "Python 3",
   "language": "python",
   "name": "python3"
  },
  "language_info": {
   "codemirror_mode": {
    "name": "ipython",
    "version": 3
   },
   "file_extension": ".py",
   "mimetype": "text/x-python",
   "name": "python",
   "nbconvert_exporter": "python",
   "pygments_lexer": "ipython3",
   "version": "3.6.3"
  }
 },
 "nbformat": 4,
 "nbformat_minor": 2
}
