{
 "cells": [
  {
   "cell_type": "code",
   "execution_count": null,
   "metadata": {},
   "outputs": [],
   "source": [
    "! cd ../ && python setup.py develop"
   ]
  },
  {
   "cell_type": "code",
   "execution_count": null,
   "metadata": {},
   "outputs": [],
   "source": [
    "import numpy as np\n",
    "import pandas as pd\n",
    "import logging\n",
    "%load_ext autoreload\n",
    "%autoreload 2\n",
    "\n",
    "from mercari import tf_sparse"
   ]
  },
  {
   "cell_type": "code",
   "execution_count": null,
   "metadata": {},
   "outputs": [],
   "source": [
    "small = False\n",
    "df_train, df_test = tf_sparse.load_data(small=small)\n",
    "df = pd.concat([df_train, df_test], 0)  # type: pd.DataFrame\n",
    "nrow_train = df_train.shape[0]\n",
    "y_train = np.log1p(df_train['price']).values\n",
    "train_ids, valid_ids, submission = tf_sparse.load_valid_ids(df_train)\n",
    "\n",
    "del df_train\n",
    "del df_test\n",
    "X, _, _, _ = tf_sparse.build_features(df)\n",
    "\n",
    "scaler = tf_sparse.StandardScaler()\n",
    "scaler.fit(y_train.reshape(-1 , 1));"
   ]
  },
  {
   "cell_type": "code",
   "execution_count": null,
   "metadata": {},
   "outputs": [],
   "source": [
    "X_train = X[:nrow_train]\n",
    "train_nonzero = (df['price'].iloc[train_ids] != 0).values.nonzero()[0]\n",
    "predictions = []\n",
    "for i in range(3):\n",
    "    model, model_predictions = tf_sparse.train_model(\n",
    "        i, scaler,\n",
    "        X_train[train_ids][train_nonzero],\n",
    "        y_train[train_ids][train_nonzero],\n",
    "        X_train[valid_ids])\n",
    "    y_pred_valid = tf_sparse.weighted_predictions(model_predictions)\n",
    "    predictions.append(y_pred_valid)\n",
    "    rmsle = tf_sparse.get_rmsle(y_pred_valid, y_train[valid_ids])\n",
    "    logging.info(f'rmsle: {rmsle:.5f}')\n",
    "    submission['price'] = np.expm1(y_pred_valid)\n",
    "    submission.to_csv(f'valid_{type(model).__name__}_{i}.csv', index=False)\n",
    "logging.info('rmsle of mean: {:.5f}'.format(\n",
    "    tf_sparse.get_rmsle(np.mean(predictions, 0), y_train[valid_ids])))"
   ]
  }
 ],
 "metadata": {
  "kernelspec": {
   "display_name": "Python 3",
   "language": "python",
   "name": "python3"
  },
  "language_info": {
   "codemirror_mode": {
    "name": "ipython",
    "version": 3
   },
   "file_extension": ".py",
   "mimetype": "text/x-python",
   "name": "python",
   "nbconvert_exporter": "python",
   "pygments_lexer": "ipython3",
   "version": "3.6.3"
  }
 },
 "nbformat": 4,
 "nbformat_minor": 2
}
